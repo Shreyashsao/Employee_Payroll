{
  "nbformat": 4,
  "nbformat_minor": 0,
  "metadata": {
    "colab": {
      "provenance": []
    },
    "kernelspec": {
      "name": "python3",
      "display_name": "Python 3"
    },
    "language_info": {
      "name": "python"
    }
  },
  "cells": [
    {
      "cell_type": "code",
      "execution_count": 1,
      "metadata": {
        "id": "AflMIsTvNV6y"
      },
      "outputs": [],
      "source": [
        "import pandas as pd"
      ]
    },
    {
      "cell_type": "code",
      "source": [
        "df=pd.read_csv(\"Employee_Payroll - Employee_Payroll - Employee_Payroll - Employee_Payroll.csv\")\n",
        "df"
      ],
      "metadata": {
        "colab": {
          "base_uri": "https://localhost:8080/",
          "height": 981
        },
        "id": "s9BbTbE4Nwrl",
        "outputId": "b1cd008d-0d12-486c-cddd-0ef5ebafeb02"
      },
      "execution_count": 3,
      "outputs": [
        {
          "output_type": "execute_result",
          "data": {
            "text/plain": [
              "       Fiscal Quarter Fiscal Period First Name Last Name Middle Init  \\\n",
              "0                   1        2016Q1     AMRITH     AAKRE           K   \n",
              "1                   2        2016Q2     AMRITH     AAKRE           K   \n",
              "2                   3        2016Q3     AMRITH     AAKRE           K   \n",
              "3                   4        2016Q4     AMRITH     AAKRE           K   \n",
              "4                   1        2017Q1     AMRITH     AAKRE           K   \n",
              "...               ...           ...        ...       ...         ...   \n",
              "25411               3        2016Q3    NATASHA    CARTER         NaN   \n",
              "25412               3        2016Q3   BRIDGETT    CARTER         NaN   \n",
              "25413               3        2016Q3     JANINE    CARTER         NaN   \n",
              "25414               3        2016Q3    CHARLES    CARTER           E   \n",
              "25415               3        2016Q3   LATONYIA    CARTER           M   \n",
              "\n",
              "                 Bureau  Office                    Office Name  Job Code  \\\n",
              "0      State's Attorney  1250.0                STATES ATTORNEY      1172   \n",
              "1      State's Attorney  1250.0                STATES ATTORNEY      1172   \n",
              "2      State's Attorney  1250.0                STATES ATTORNEY      1172   \n",
              "3      State's Attorney  1250.0                STATES ATTORNEY      1172   \n",
              "4      State's Attorney  1250.0                STATES ATTORNEY      1172   \n",
              "...                 ...     ...                            ...       ...   \n",
              "25411  Bureau of Admin.  1011.0     OFFICE CHIEF ADMIN OFFICER       907   \n",
              "25412  Bureau of Health  4895.0    DEPARTMENT OF PUBLIC HEALTH      4091   \n",
              "25413  Bureau of Health  4890.0               BUREAU OF HEALTH      6489   \n",
              "25414  Bureau of Health  4897.0  STROGER HOSPITAL OF COOK CNTY      2417   \n",
              "25415  Bureau of Health  4897.0  STROGER HOSPITAL OF COOK CNTY      1967   \n",
              "\n",
              "                           Job Title    Base Pay  Position ID  \\\n",
              "0         Assistant State's Attorney  $20,088.00    9510200.0   \n",
              "1         Assistant State's Attorney  $23,436.00    9510200.0   \n",
              "2         Assistant State's Attorney  $20,422.82    9510200.0   \n",
              "3         Assistant State's Attorney  $23,904.80    9510200.0   \n",
              "4         Assistant State's Attorney  $20,745.80    9510200.0   \n",
              "...                              ...         ...          ...   \n",
              "25411                        Clerk V  $10,546.96    9518074.0   \n",
              "25412  Public Health Educator Senior  $16,145.91    9520407.0   \n",
              "25413    Call Center Cust Sevice Rep   $7,264.80    9520416.0   \n",
              "25414    Hospital Security Officer I  $12,145.60    9520476.0   \n",
              "25415                       Transpor         NaN          NaN   \n",
              "\n",
              "                        Employee Identifier Original Hire Date  \n",
              "0      6ac7ba3e-d286-44f5-87a0-191dc415e23c         05/16/2005  \n",
              "1      6ac7ba3e-d286-44f5-87a0-191dc415e23c         05/16/2005  \n",
              "2      6ac7ba3e-d286-44f5-87a0-191dc415e23c         05/16/2005  \n",
              "3      6ac7ba3e-d286-44f5-87a0-191dc415e23c         05/16/2005  \n",
              "4      6ac7ba3e-d286-44f5-87a0-191dc415e23c         05/16/2005  \n",
              "...                                     ...                ...  \n",
              "25411  7b90e22a-5aa5-4579-92a6-afd45e311d93         03/26/2001  \n",
              "25412  39c6d0e1-3cc0-41cd-aed4-c0827d76cfe9         04/06/1987  \n",
              "25413  46b13332-8254-4961-b59a-55acf3017e6f         09/21/2015  \n",
              "25414  00883ca4-5cc2-460d-b02c-4d5d73e64b83         01/12/2004  \n",
              "25415                                   NaN                NaN  \n",
              "\n",
              "[25416 rows x 14 columns]"
            ],
            "text/html": [
              "\n",
              "  <div id=\"df-87a025f4-39c0-4fe0-9af3-7a2ecaf670e1\" class=\"colab-df-container\">\n",
              "    <div>\n",
              "<style scoped>\n",
              "    .dataframe tbody tr th:only-of-type {\n",
              "        vertical-align: middle;\n",
              "    }\n",
              "\n",
              "    .dataframe tbody tr th {\n",
              "        vertical-align: top;\n",
              "    }\n",
              "\n",
              "    .dataframe thead th {\n",
              "        text-align: right;\n",
              "    }\n",
              "</style>\n",
              "<table border=\"1\" class=\"dataframe\">\n",
              "  <thead>\n",
              "    <tr style=\"text-align: right;\">\n",
              "      <th></th>\n",
              "      <th>Fiscal Quarter</th>\n",
              "      <th>Fiscal Period</th>\n",
              "      <th>First Name</th>\n",
              "      <th>Last Name</th>\n",
              "      <th>Middle Init</th>\n",
              "      <th>Bureau</th>\n",
              "      <th>Office</th>\n",
              "      <th>Office Name</th>\n",
              "      <th>Job Code</th>\n",
              "      <th>Job Title</th>\n",
              "      <th>Base Pay</th>\n",
              "      <th>Position ID</th>\n",
              "      <th>Employee Identifier</th>\n",
              "      <th>Original Hire Date</th>\n",
              "    </tr>\n",
              "  </thead>\n",
              "  <tbody>\n",
              "    <tr>\n",
              "      <th>0</th>\n",
              "      <td>1</td>\n",
              "      <td>2016Q1</td>\n",
              "      <td>AMRITH</td>\n",
              "      <td>AAKRE</td>\n",
              "      <td>K</td>\n",
              "      <td>State's Attorney</td>\n",
              "      <td>1250.0</td>\n",
              "      <td>STATES ATTORNEY</td>\n",
              "      <td>1172</td>\n",
              "      <td>Assistant State's Attorney</td>\n",
              "      <td>$20,088.00</td>\n",
              "      <td>9510200.0</td>\n",
              "      <td>6ac7ba3e-d286-44f5-87a0-191dc415e23c</td>\n",
              "      <td>05/16/2005</td>\n",
              "    </tr>\n",
              "    <tr>\n",
              "      <th>1</th>\n",
              "      <td>2</td>\n",
              "      <td>2016Q2</td>\n",
              "      <td>AMRITH</td>\n",
              "      <td>AAKRE</td>\n",
              "      <td>K</td>\n",
              "      <td>State's Attorney</td>\n",
              "      <td>1250.0</td>\n",
              "      <td>STATES ATTORNEY</td>\n",
              "      <td>1172</td>\n",
              "      <td>Assistant State's Attorney</td>\n",
              "      <td>$23,436.00</td>\n",
              "      <td>9510200.0</td>\n",
              "      <td>6ac7ba3e-d286-44f5-87a0-191dc415e23c</td>\n",
              "      <td>05/16/2005</td>\n",
              "    </tr>\n",
              "    <tr>\n",
              "      <th>2</th>\n",
              "      <td>3</td>\n",
              "      <td>2016Q3</td>\n",
              "      <td>AMRITH</td>\n",
              "      <td>AAKRE</td>\n",
              "      <td>K</td>\n",
              "      <td>State's Attorney</td>\n",
              "      <td>1250.0</td>\n",
              "      <td>STATES ATTORNEY</td>\n",
              "      <td>1172</td>\n",
              "      <td>Assistant State's Attorney</td>\n",
              "      <td>$20,422.82</td>\n",
              "      <td>9510200.0</td>\n",
              "      <td>6ac7ba3e-d286-44f5-87a0-191dc415e23c</td>\n",
              "      <td>05/16/2005</td>\n",
              "    </tr>\n",
              "    <tr>\n",
              "      <th>3</th>\n",
              "      <td>4</td>\n",
              "      <td>2016Q4</td>\n",
              "      <td>AMRITH</td>\n",
              "      <td>AAKRE</td>\n",
              "      <td>K</td>\n",
              "      <td>State's Attorney</td>\n",
              "      <td>1250.0</td>\n",
              "      <td>STATES ATTORNEY</td>\n",
              "      <td>1172</td>\n",
              "      <td>Assistant State's Attorney</td>\n",
              "      <td>$23,904.80</td>\n",
              "      <td>9510200.0</td>\n",
              "      <td>6ac7ba3e-d286-44f5-87a0-191dc415e23c</td>\n",
              "      <td>05/16/2005</td>\n",
              "    </tr>\n",
              "    <tr>\n",
              "      <th>4</th>\n",
              "      <td>1</td>\n",
              "      <td>2017Q1</td>\n",
              "      <td>AMRITH</td>\n",
              "      <td>AAKRE</td>\n",
              "      <td>K</td>\n",
              "      <td>State's Attorney</td>\n",
              "      <td>1250.0</td>\n",
              "      <td>STATES ATTORNEY</td>\n",
              "      <td>1172</td>\n",
              "      <td>Assistant State's Attorney</td>\n",
              "      <td>$20,745.80</td>\n",
              "      <td>9510200.0</td>\n",
              "      <td>6ac7ba3e-d286-44f5-87a0-191dc415e23c</td>\n",
              "      <td>05/16/2005</td>\n",
              "    </tr>\n",
              "    <tr>\n",
              "      <th>...</th>\n",
              "      <td>...</td>\n",
              "      <td>...</td>\n",
              "      <td>...</td>\n",
              "      <td>...</td>\n",
              "      <td>...</td>\n",
              "      <td>...</td>\n",
              "      <td>...</td>\n",
              "      <td>...</td>\n",
              "      <td>...</td>\n",
              "      <td>...</td>\n",
              "      <td>...</td>\n",
              "      <td>...</td>\n",
              "      <td>...</td>\n",
              "      <td>...</td>\n",
              "    </tr>\n",
              "    <tr>\n",
              "      <th>25411</th>\n",
              "      <td>3</td>\n",
              "      <td>2016Q3</td>\n",
              "      <td>NATASHA</td>\n",
              "      <td>CARTER</td>\n",
              "      <td>NaN</td>\n",
              "      <td>Bureau of Admin.</td>\n",
              "      <td>1011.0</td>\n",
              "      <td>OFFICE CHIEF ADMIN OFFICER</td>\n",
              "      <td>907</td>\n",
              "      <td>Clerk V</td>\n",
              "      <td>$10,546.96</td>\n",
              "      <td>9518074.0</td>\n",
              "      <td>7b90e22a-5aa5-4579-92a6-afd45e311d93</td>\n",
              "      <td>03/26/2001</td>\n",
              "    </tr>\n",
              "    <tr>\n",
              "      <th>25412</th>\n",
              "      <td>3</td>\n",
              "      <td>2016Q3</td>\n",
              "      <td>BRIDGETT</td>\n",
              "      <td>CARTER</td>\n",
              "      <td>NaN</td>\n",
              "      <td>Bureau of Health</td>\n",
              "      <td>4895.0</td>\n",
              "      <td>DEPARTMENT OF PUBLIC HEALTH</td>\n",
              "      <td>4091</td>\n",
              "      <td>Public Health Educator Senior</td>\n",
              "      <td>$16,145.91</td>\n",
              "      <td>9520407.0</td>\n",
              "      <td>39c6d0e1-3cc0-41cd-aed4-c0827d76cfe9</td>\n",
              "      <td>04/06/1987</td>\n",
              "    </tr>\n",
              "    <tr>\n",
              "      <th>25413</th>\n",
              "      <td>3</td>\n",
              "      <td>2016Q3</td>\n",
              "      <td>JANINE</td>\n",
              "      <td>CARTER</td>\n",
              "      <td>NaN</td>\n",
              "      <td>Bureau of Health</td>\n",
              "      <td>4890.0</td>\n",
              "      <td>BUREAU OF HEALTH</td>\n",
              "      <td>6489</td>\n",
              "      <td>Call Center Cust Sevice Rep</td>\n",
              "      <td>$7,264.80</td>\n",
              "      <td>9520416.0</td>\n",
              "      <td>46b13332-8254-4961-b59a-55acf3017e6f</td>\n",
              "      <td>09/21/2015</td>\n",
              "    </tr>\n",
              "    <tr>\n",
              "      <th>25414</th>\n",
              "      <td>3</td>\n",
              "      <td>2016Q3</td>\n",
              "      <td>CHARLES</td>\n",
              "      <td>CARTER</td>\n",
              "      <td>E</td>\n",
              "      <td>Bureau of Health</td>\n",
              "      <td>4897.0</td>\n",
              "      <td>STROGER HOSPITAL OF COOK CNTY</td>\n",
              "      <td>2417</td>\n",
              "      <td>Hospital Security Officer I</td>\n",
              "      <td>$12,145.60</td>\n",
              "      <td>9520476.0</td>\n",
              "      <td>00883ca4-5cc2-460d-b02c-4d5d73e64b83</td>\n",
              "      <td>01/12/2004</td>\n",
              "    </tr>\n",
              "    <tr>\n",
              "      <th>25415</th>\n",
              "      <td>3</td>\n",
              "      <td>2016Q3</td>\n",
              "      <td>LATONYIA</td>\n",
              "      <td>CARTER</td>\n",
              "      <td>M</td>\n",
              "      <td>Bureau of Health</td>\n",
              "      <td>4897.0</td>\n",
              "      <td>STROGER HOSPITAL OF COOK CNTY</td>\n",
              "      <td>1967</td>\n",
              "      <td>Transpor</td>\n",
              "      <td>NaN</td>\n",
              "      <td>NaN</td>\n",
              "      <td>NaN</td>\n",
              "      <td>NaN</td>\n",
              "    </tr>\n",
              "  </tbody>\n",
              "</table>\n",
              "<p>25416 rows × 14 columns</p>\n",
              "</div>\n",
              "    <div class=\"colab-df-buttons\">\n",
              "\n",
              "  <div class=\"colab-df-container\">\n",
              "    <button class=\"colab-df-convert\" onclick=\"convertToInteractive('df-87a025f4-39c0-4fe0-9af3-7a2ecaf670e1')\"\n",
              "            title=\"Convert this dataframe to an interactive table.\"\n",
              "            style=\"display:none;\">\n",
              "\n",
              "  <svg xmlns=\"http://www.w3.org/2000/svg\" height=\"24px\" viewBox=\"0 -960 960 960\">\n",
              "    <path d=\"M120-120v-720h720v720H120Zm60-500h600v-160H180v160Zm220 220h160v-160H400v160Zm0 220h160v-160H400v160ZM180-400h160v-160H180v160Zm440 0h160v-160H620v160ZM180-180h160v-160H180v160Zm440 0h160v-160H620v160Z\"/>\n",
              "  </svg>\n",
              "    </button>\n",
              "\n",
              "  <style>\n",
              "    .colab-df-container {\n",
              "      display:flex;\n",
              "      gap: 12px;\n",
              "    }\n",
              "\n",
              "    .colab-df-convert {\n",
              "      background-color: #E8F0FE;\n",
              "      border: none;\n",
              "      border-radius: 50%;\n",
              "      cursor: pointer;\n",
              "      display: none;\n",
              "      fill: #1967D2;\n",
              "      height: 32px;\n",
              "      padding: 0 0 0 0;\n",
              "      width: 32px;\n",
              "    }\n",
              "\n",
              "    .colab-df-convert:hover {\n",
              "      background-color: #E2EBFA;\n",
              "      box-shadow: 0px 1px 2px rgba(60, 64, 67, 0.3), 0px 1px 3px 1px rgba(60, 64, 67, 0.15);\n",
              "      fill: #174EA6;\n",
              "    }\n",
              "\n",
              "    .colab-df-buttons div {\n",
              "      margin-bottom: 4px;\n",
              "    }\n",
              "\n",
              "    [theme=dark] .colab-df-convert {\n",
              "      background-color: #3B4455;\n",
              "      fill: #D2E3FC;\n",
              "    }\n",
              "\n",
              "    [theme=dark] .colab-df-convert:hover {\n",
              "      background-color: #434B5C;\n",
              "      box-shadow: 0px 1px 3px 1px rgba(0, 0, 0, 0.15);\n",
              "      filter: drop-shadow(0px 1px 2px rgba(0, 0, 0, 0.3));\n",
              "      fill: #FFFFFF;\n",
              "    }\n",
              "  </style>\n",
              "\n",
              "    <script>\n",
              "      const buttonEl =\n",
              "        document.querySelector('#df-87a025f4-39c0-4fe0-9af3-7a2ecaf670e1 button.colab-df-convert');\n",
              "      buttonEl.style.display =\n",
              "        google.colab.kernel.accessAllowed ? 'block' : 'none';\n",
              "\n",
              "      async function convertToInteractive(key) {\n",
              "        const element = document.querySelector('#df-87a025f4-39c0-4fe0-9af3-7a2ecaf670e1');\n",
              "        const dataTable =\n",
              "          await google.colab.kernel.invokeFunction('convertToInteractive',\n",
              "                                                    [key], {});\n",
              "        if (!dataTable) return;\n",
              "\n",
              "        const docLinkHtml = 'Like what you see? Visit the ' +\n",
              "          '<a target=\"_blank\" href=https://colab.research.google.com/notebooks/data_table.ipynb>data table notebook</a>'\n",
              "          + ' to learn more about interactive tables.';\n",
              "        element.innerHTML = '';\n",
              "        dataTable['output_type'] = 'display_data';\n",
              "        await google.colab.output.renderOutput(dataTable, element);\n",
              "        const docLink = document.createElement('div');\n",
              "        docLink.innerHTML = docLinkHtml;\n",
              "        element.appendChild(docLink);\n",
              "      }\n",
              "    </script>\n",
              "  </div>\n",
              "\n",
              "\n",
              "<div id=\"df-3272f76e-1952-42a4-8f0c-15fe8a7f4e39\">\n",
              "  <button class=\"colab-df-quickchart\" onclick=\"quickchart('df-3272f76e-1952-42a4-8f0c-15fe8a7f4e39')\"\n",
              "            title=\"Suggest charts\"\n",
              "            style=\"display:none;\">\n",
              "\n",
              "<svg xmlns=\"http://www.w3.org/2000/svg\" height=\"24px\"viewBox=\"0 0 24 24\"\n",
              "     width=\"24px\">\n",
              "    <g>\n",
              "        <path d=\"M19 3H5c-1.1 0-2 .9-2 2v14c0 1.1.9 2 2 2h14c1.1 0 2-.9 2-2V5c0-1.1-.9-2-2-2zM9 17H7v-7h2v7zm4 0h-2V7h2v10zm4 0h-2v-4h2v4z\"/>\n",
              "    </g>\n",
              "</svg>\n",
              "  </button>\n",
              "\n",
              "<style>\n",
              "  .colab-df-quickchart {\n",
              "      --bg-color: #E8F0FE;\n",
              "      --fill-color: #1967D2;\n",
              "      --hover-bg-color: #E2EBFA;\n",
              "      --hover-fill-color: #174EA6;\n",
              "      --disabled-fill-color: #AAA;\n",
              "      --disabled-bg-color: #DDD;\n",
              "  }\n",
              "\n",
              "  [theme=dark] .colab-df-quickchart {\n",
              "      --bg-color: #3B4455;\n",
              "      --fill-color: #D2E3FC;\n",
              "      --hover-bg-color: #434B5C;\n",
              "      --hover-fill-color: #FFFFFF;\n",
              "      --disabled-bg-color: #3B4455;\n",
              "      --disabled-fill-color: #666;\n",
              "  }\n",
              "\n",
              "  .colab-df-quickchart {\n",
              "    background-color: var(--bg-color);\n",
              "    border: none;\n",
              "    border-radius: 50%;\n",
              "    cursor: pointer;\n",
              "    display: none;\n",
              "    fill: var(--fill-color);\n",
              "    height: 32px;\n",
              "    padding: 0;\n",
              "    width: 32px;\n",
              "  }\n",
              "\n",
              "  .colab-df-quickchart:hover {\n",
              "    background-color: var(--hover-bg-color);\n",
              "    box-shadow: 0 1px 2px rgba(60, 64, 67, 0.3), 0 1px 3px 1px rgba(60, 64, 67, 0.15);\n",
              "    fill: var(--button-hover-fill-color);\n",
              "  }\n",
              "\n",
              "  .colab-df-quickchart-complete:disabled,\n",
              "  .colab-df-quickchart-complete:disabled:hover {\n",
              "    background-color: var(--disabled-bg-color);\n",
              "    fill: var(--disabled-fill-color);\n",
              "    box-shadow: none;\n",
              "  }\n",
              "\n",
              "  .colab-df-spinner {\n",
              "    border: 2px solid var(--fill-color);\n",
              "    border-color: transparent;\n",
              "    border-bottom-color: var(--fill-color);\n",
              "    animation:\n",
              "      spin 1s steps(1) infinite;\n",
              "  }\n",
              "\n",
              "  @keyframes spin {\n",
              "    0% {\n",
              "      border-color: transparent;\n",
              "      border-bottom-color: var(--fill-color);\n",
              "      border-left-color: var(--fill-color);\n",
              "    }\n",
              "    20% {\n",
              "      border-color: transparent;\n",
              "      border-left-color: var(--fill-color);\n",
              "      border-top-color: var(--fill-color);\n",
              "    }\n",
              "    30% {\n",
              "      border-color: transparent;\n",
              "      border-left-color: var(--fill-color);\n",
              "      border-top-color: var(--fill-color);\n",
              "      border-right-color: var(--fill-color);\n",
              "    }\n",
              "    40% {\n",
              "      border-color: transparent;\n",
              "      border-right-color: var(--fill-color);\n",
              "      border-top-color: var(--fill-color);\n",
              "    }\n",
              "    60% {\n",
              "      border-color: transparent;\n",
              "      border-right-color: var(--fill-color);\n",
              "    }\n",
              "    80% {\n",
              "      border-color: transparent;\n",
              "      border-right-color: var(--fill-color);\n",
              "      border-bottom-color: var(--fill-color);\n",
              "    }\n",
              "    90% {\n",
              "      border-color: transparent;\n",
              "      border-bottom-color: var(--fill-color);\n",
              "    }\n",
              "  }\n",
              "</style>\n",
              "\n",
              "  <script>\n",
              "    async function quickchart(key) {\n",
              "      const quickchartButtonEl =\n",
              "        document.querySelector('#' + key + ' button');\n",
              "      quickchartButtonEl.disabled = true;  // To prevent multiple clicks.\n",
              "      quickchartButtonEl.classList.add('colab-df-spinner');\n",
              "      try {\n",
              "        const charts = await google.colab.kernel.invokeFunction(\n",
              "            'suggestCharts', [key], {});\n",
              "      } catch (error) {\n",
              "        console.error('Error during call to suggestCharts:', error);\n",
              "      }\n",
              "      quickchartButtonEl.classList.remove('colab-df-spinner');\n",
              "      quickchartButtonEl.classList.add('colab-df-quickchart-complete');\n",
              "    }\n",
              "    (() => {\n",
              "      let quickchartButtonEl =\n",
              "        document.querySelector('#df-3272f76e-1952-42a4-8f0c-15fe8a7f4e39 button');\n",
              "      quickchartButtonEl.style.display =\n",
              "        google.colab.kernel.accessAllowed ? 'block' : 'none';\n",
              "    })();\n",
              "  </script>\n",
              "</div>\n",
              "\n",
              "  <div id=\"id_23bb7bab-404f-4bb0-8ce0-00669bd3153e\">\n",
              "    <style>\n",
              "      .colab-df-generate {\n",
              "        background-color: #E8F0FE;\n",
              "        border: none;\n",
              "        border-radius: 50%;\n",
              "        cursor: pointer;\n",
              "        display: none;\n",
              "        fill: #1967D2;\n",
              "        height: 32px;\n",
              "        padding: 0 0 0 0;\n",
              "        width: 32px;\n",
              "      }\n",
              "\n",
              "      .colab-df-generate:hover {\n",
              "        background-color: #E2EBFA;\n",
              "        box-shadow: 0px 1px 2px rgba(60, 64, 67, 0.3), 0px 1px 3px 1px rgba(60, 64, 67, 0.15);\n",
              "        fill: #174EA6;\n",
              "      }\n",
              "\n",
              "      [theme=dark] .colab-df-generate {\n",
              "        background-color: #3B4455;\n",
              "        fill: #D2E3FC;\n",
              "      }\n",
              "\n",
              "      [theme=dark] .colab-df-generate:hover {\n",
              "        background-color: #434B5C;\n",
              "        box-shadow: 0px 1px 3px 1px rgba(0, 0, 0, 0.15);\n",
              "        filter: drop-shadow(0px 1px 2px rgba(0, 0, 0, 0.3));\n",
              "        fill: #FFFFFF;\n",
              "      }\n",
              "    </style>\n",
              "    <button class=\"colab-df-generate\" onclick=\"generateWithVariable('df')\"\n",
              "            title=\"Generate code using this dataframe.\"\n",
              "            style=\"display:none;\">\n",
              "\n",
              "  <svg xmlns=\"http://www.w3.org/2000/svg\" height=\"24px\"viewBox=\"0 0 24 24\"\n",
              "       width=\"24px\">\n",
              "    <path d=\"M7,19H8.4L18.45,9,17,7.55,7,17.6ZM5,21V16.75L18.45,3.32a2,2,0,0,1,2.83,0l1.4,1.43a1.91,1.91,0,0,1,.58,1.4,1.91,1.91,0,0,1-.58,1.4L9.25,21ZM18.45,9,17,7.55Zm-12,3A5.31,5.31,0,0,0,4.9,8.1,5.31,5.31,0,0,0,1,6.5,5.31,5.31,0,0,0,4.9,4.9,5.31,5.31,0,0,0,6.5,1,5.31,5.31,0,0,0,8.1,4.9,5.31,5.31,0,0,0,12,6.5,5.46,5.46,0,0,0,6.5,12Z\"/>\n",
              "  </svg>\n",
              "    </button>\n",
              "    <script>\n",
              "      (() => {\n",
              "      const buttonEl =\n",
              "        document.querySelector('#id_23bb7bab-404f-4bb0-8ce0-00669bd3153e button.colab-df-generate');\n",
              "      buttonEl.style.display =\n",
              "        google.colab.kernel.accessAllowed ? 'block' : 'none';\n",
              "\n",
              "      buttonEl.onclick = () => {\n",
              "        google.colab.notebook.generateWithVariable('df');\n",
              "      }\n",
              "      })();\n",
              "    </script>\n",
              "  </div>\n",
              "\n",
              "    </div>\n",
              "  </div>\n"
            ],
            "application/vnd.google.colaboratory.intrinsic+json": {
              "type": "dataframe",
              "variable_name": "df",
              "summary": "{\n  \"name\": \"df\",\n  \"rows\": 25416,\n  \"fields\": [\n    {\n      \"column\": \"Fiscal Quarter\",\n      \"properties\": {\n        \"dtype\": \"number\",\n        \"std\": 1,\n        \"min\": 1,\n        \"max\": 4,\n        \"num_unique_values\": 4,\n        \"samples\": [\n          2,\n          4,\n          1\n        ],\n        \"semantic_type\": \"\",\n        \"description\": \"\"\n      }\n    },\n    {\n      \"column\": \"Fiscal Period\",\n      \"properties\": {\n        \"dtype\": \"object\",\n        \"num_unique_values\": 8,\n        \"samples\": [\n          \"2016Q2\",\n          \"2017Q2\",\n          \"2016Q1\"\n        ],\n        \"semantic_type\": \"\",\n        \"description\": \"\"\n      }\n    },\n    {\n      \"column\": \"First Name\",\n      \"properties\": {\n        \"dtype\": \"category\",\n        \"num_unique_values\": 1752,\n        \"samples\": [\n          \"ANN\",\n          \"SHIRLEY\",\n          \"CARMERDETTA\"\n        ],\n        \"semantic_type\": \"\",\n        \"description\": \"\"\n      }\n    },\n    {\n      \"column\": \"Last Name\",\n      \"properties\": {\n        \"dtype\": \"category\",\n        \"num_unique_values\": 1907,\n        \"samples\": [\n          \"BOGGIA\",\n          \"ADEYINKA\",\n          \"CARABEZ\"\n        ],\n        \"semantic_type\": \"\",\n        \"description\": \"\"\n      }\n    },\n    {\n      \"column\": \"Middle Init\",\n      \"properties\": {\n        \"dtype\": \"category\",\n        \"num_unique_values\": 71,\n        \"samples\": [\n          \"OLAWALE\",\n          \"K\",\n          \"ANN\"\n        ],\n        \"semantic_type\": \"\",\n        \"description\": \"\"\n      }\n    },\n    {\n      \"column\": \"Bureau\",\n      \"properties\": {\n        \"dtype\": \"category\",\n        \"num_unique_values\": 23,\n        \"samples\": [\n          \"Facilities Management\",\n          \"Office Under the President\",\n          \"State's Attorney\"\n        ],\n        \"semantic_type\": \"\",\n        \"description\": \"\"\n      }\n    },\n    {\n      \"column\": \"Office\",\n      \"properties\": {\n        \"dtype\": \"number\",\n        \"std\": 1636.3003604382702,\n        \"min\": 1002.0,\n        \"max\": 4898.0,\n        \"num_unique_values\": 73,\n        \"samples\": [\n          4890.0,\n          1013.0,\n          1110.0\n        ],\n        \"semantic_type\": \"\",\n        \"description\": \"\"\n      }\n    },\n    {\n      \"column\": \"Office Name\",\n      \"properties\": {\n        \"dtype\": \"category\",\n        \"num_unique_values\": 74,\n        \"samples\": [\n          \"BUREAU OF HEALTH\",\n          \"THIRD DISTRICT\",\n          \"COUNTY CLERK\"\n        ],\n        \"semantic_type\": \"\",\n        \"description\": \"\"\n      }\n    },\n    {\n      \"column\": \"Job Code\",\n      \"properties\": {\n        \"dtype\": \"number\",\n        \"std\": 1880,\n        \"min\": 1,\n        \"max\": 8079,\n        \"num_unique_values\": 852,\n        \"samples\": [\n          1341,\n          42,\n          735\n        ],\n        \"semantic_type\": \"\",\n        \"description\": \"\"\n      }\n    },\n    {\n      \"column\": \"Job Title\",\n      \"properties\": {\n        \"dtype\": \"category\",\n        \"num_unique_values\": 831,\n        \"samples\": [\n          \"Leads Validator\",\n          \"Exec Assistant to Chief Op Off\",\n          \"Director of Fiscal Control I\"\n        ],\n        \"semantic_type\": \"\",\n        \"description\": \"\"\n      }\n    },\n    {\n      \"column\": \"Base Pay\",\n      \"properties\": {\n        \"dtype\": \"string\",\n        \"num_unique_values\": 17494,\n        \"samples\": [\n          \"$16,221.68\",\n          \"$7,317.50\",\n          \"$14,166.32\"\n        ],\n        \"semantic_type\": \"\",\n        \"description\": \"\"\n      }\n    },\n    {\n      \"column\": \"Position ID\",\n      \"properties\": {\n        \"dtype\": \"number\",\n        \"std\": 3739423.2348876223,\n        \"min\": 47.0,\n        \"max\": 9935271.0,\n        \"num_unique_values\": 4004,\n        \"samples\": [\n          9521246.0,\n          9516010.0,\n          9506531.0\n        ],\n        \"semantic_type\": \"\",\n        \"description\": \"\"\n      }\n    },\n    {\n      \"column\": \"Employee Identifier\",\n      \"properties\": {\n        \"dtype\": \"category\",\n        \"num_unique_values\": 3815,\n        \"samples\": [\n          \"321f1560-71a7-46c0-a065-65e8e4e1245c\",\n          \"26d5134e-19f5-4a1e-8adb-16c0ca7edc2e\",\n          \"9a8afd5b-315e-4b8b-a082-31613708972b\"\n        ],\n        \"semantic_type\": \"\",\n        \"description\": \"\"\n      }\n    },\n    {\n      \"column\": \"Original Hire Date\",\n      \"properties\": {\n        \"dtype\": \"object\",\n        \"num_unique_values\": 1500,\n        \"samples\": [\n          \"01/02/1985\",\n          \"11/23/2009\",\n          \"01/17/2012\"\n        ],\n        \"semantic_type\": \"\",\n        \"description\": \"\"\n      }\n    }\n  ]\n}"
            }
          },
          "metadata": {},
          "execution_count": 3
        }
      ]
    },
    {
      "cell_type": "markdown",
      "source": [
        "1. Remove the **'$'** and **‘,’** signs from the **'Base Pay'** column and change the column's data type to float (Use pandas for this and not excel)"
      ],
      "metadata": {
        "id": "bicl9uP1IMeW"
      }
    },
    {
      "cell_type": "code",
      "source": [
        "df[\"Base Pay\"]=df[\"Base Pay\"].str.replace(\"$\",\"\")\n",
        "df[\"Base Pay\"]=df[\"Base Pay\"].str.replace(\",\",\"\")"
      ],
      "metadata": {
        "colab": {
          "base_uri": "https://localhost:8080/"
        },
        "id": "uURXAa-ZOVKe",
        "outputId": "7b6b9590-a78e-411c-f879-bc8cb4268a86"
      },
      "execution_count": 5,
      "outputs": [
        {
          "output_type": "stream",
          "name": "stderr",
          "text": [
            "<ipython-input-5-8379c1f7fa87>:1: FutureWarning: The default value of regex will change from True to False in a future version. In addition, single character regular expressions will *not* be treated as literal strings when regex=True.\n",
            "  df[\"Base Pay\"]=df[\"Base Pay\"].str.replace(\"$\",\"\")\n"
          ]
        }
      ]
    },
    {
      "cell_type": "code",
      "source": [
        "df.dtypes"
      ],
      "metadata": {
        "colab": {
          "base_uri": "https://localhost:8080/"
        },
        "id": "A_u_LlrOOq0r",
        "outputId": "ee667cbc-b262-458e-9a26-de93146e3601"
      },
      "execution_count": 6,
      "outputs": [
        {
          "output_type": "execute_result",
          "data": {
            "text/plain": [
              "Fiscal Quarter           int64\n",
              "Fiscal Period           object\n",
              "First Name              object\n",
              "Last Name               object\n",
              "Middle Init             object\n",
              "Bureau                  object\n",
              "Office                 float64\n",
              "Office Name             object\n",
              "Job Code                 int64\n",
              "Job Title               object\n",
              "Base Pay                object\n",
              "Position ID            float64\n",
              "Employee Identifier     object\n",
              "Original Hire Date      object\n",
              "dtype: object"
            ]
          },
          "metadata": {},
          "execution_count": 6
        }
      ]
    },
    {
      "cell_type": "code",
      "source": [
        "df[\"Base Pay\"]=df[\"Base Pay\"].astype(\"float\")\n",
        "df['Original Hire Date'] = pd.to_datetime(df['Original Hire Date'])\n",
        "df.dtypes"
      ],
      "metadata": {
        "colab": {
          "base_uri": "https://localhost:8080/"
        },
        "id": "MQwrIMIUPR4i",
        "outputId": "ec060e3c-0a69-4c51-8feb-cbb6291a3051"
      },
      "execution_count": 7,
      "outputs": [
        {
          "output_type": "execute_result",
          "data": {
            "text/plain": [
              "Fiscal Quarter                  int64\n",
              "Fiscal Period                  object\n",
              "First Name                     object\n",
              "Last Name                      object\n",
              "Middle Init                    object\n",
              "Bureau                         object\n",
              "Office                        float64\n",
              "Office Name                    object\n",
              "Job Code                        int64\n",
              "Job Title                      object\n",
              "Base Pay                      float64\n",
              "Position ID                   float64\n",
              "Employee Identifier            object\n",
              "Original Hire Date     datetime64[ns]\n",
              "dtype: object"
            ]
          },
          "metadata": {},
          "execution_count": 7
        }
      ]
    },
    {
      "cell_type": "code",
      "source": [
        "df.isnull().sum()"
      ],
      "metadata": {
        "colab": {
          "base_uri": "https://localhost:8080/"
        },
        "id": "ecRQEfSyPfh6",
        "outputId": "17542b96-a469-4dad-c0a3-94174e3f1f9d"
      },
      "execution_count": 23,
      "outputs": [
        {
          "output_type": "execute_result",
          "data": {
            "text/plain": [
              "Fiscal Quarter             0\n",
              "Fiscal Period              0\n",
              "First Name                 0\n",
              "Last Name                  0\n",
              "Middle Init            10317\n",
              "Bureau                     0\n",
              "Office                     0\n",
              "Office Name                0\n",
              "Job Code                   0\n",
              "Job Title                  0\n",
              "Base Pay                   0\n",
              "Position ID                0\n",
              "Employee Identifier        0\n",
              "Original Hire Date         0\n",
              "dtype: int64"
            ]
          },
          "metadata": {},
          "execution_count": 23
        }
      ]
    },
    {
      "cell_type": "code",
      "source": [
        "df = df.dropna(subset=['Office'])\n",
        "df = df.dropna(subset=['Base Pay'])\n",
        "df = df.dropna(subset=['Position ID'])"
      ],
      "metadata": {
        "id": "f1g5rLrXDlPc"
      },
      "execution_count": 21,
      "outputs": []
    },
    {
      "cell_type": "markdown",
      "source": [
        "2. Create a column 'Fiscal Year' in which you will get the 'Fiscal Year' from the 'Fiscal Period' column."
      ],
      "metadata": {
        "id": "LnTzi2mUIQ5b"
      }
    },
    {
      "cell_type": "code",
      "source": [
        "df[\"Fiscal Year\"] = df[\"Fiscal Period\"].str[:4]\n",
        "df[\"Fiscal Year\"] = df[\"Fiscal Year\"].astype(\"int\")"
      ],
      "metadata": {
        "id": "yE6wZjDIEXzW"
      },
      "execution_count": 27,
      "outputs": []
    },
    {
      "cell_type": "markdown",
      "source": [
        "3. Remove the columns ‘Middle Init’, ’Office’, ’Job Code’, and ‘Position ID’ from the DataFrame."
      ],
      "metadata": {
        "id": "w7oMBaL3E46H"
      }
    },
    {
      "cell_type": "code",
      "source": [
        "df.drop(columns=['Middle Init','Office','Job Code','Position ID'],inplace=True)"
      ],
      "metadata": {
        "id": "gq41ze79E3jV"
      },
      "execution_count": 28,
      "outputs": []
    },
    {
      "cell_type": "markdown",
      "source": [
        "4. Get the count of unique values for the columns 'Fiscal Year', ' Office Name', 'Job Title', and 'Bureau'"
      ],
      "metadata": {
        "id": "B_PaVvmfFODV"
      }
    },
    {
      "cell_type": "code",
      "source": [
        "print(\"Unique values for Fiscal Year:\", df['Fiscal Year'].nunique())\n",
        "print(\"Unique values for Office Name:\", df['Office Name'].nunique())\n",
        "print(\"Unique values for Job Title:\", df['Job Title'].nunique())\n",
        "print(\"Unique values for Bureau:\", df['Bureau'].nunique())\n"
      ],
      "metadata": {
        "colab": {
          "base_uri": "https://localhost:8080/"
        },
        "id": "oodP1U-cFXNe",
        "outputId": "d469585c-73d7-435f-fdf1-aca668b9efa7"
      },
      "execution_count": 30,
      "outputs": [
        {
          "output_type": "stream",
          "name": "stdout",
          "text": [
            "Unique values for Fiscal Year: 2\n",
            "Unique values for Office Name: 74\n",
            "Unique values for Job Title: 824\n",
            "Unique values for Bureau: 23\n"
          ]
        }
      ]
    },
    {
      "cell_type": "markdown",
      "source": [
        "7. How many Job Titles contain 'Service' in it?"
      ],
      "metadata": {
        "id": "2wrKacRgFh0F"
      }
    },
    {
      "cell_type": "code",
      "source": [
        "service_titles = df['Job Title'].str.contains('Service')\n",
        "num_service_titles = service_titles.sum()\n",
        "print(num_service_titles)"
      ],
      "metadata": {
        "colab": {
          "base_uri": "https://localhost:8080/"
        },
        "id": "lDYIwekPFlBN",
        "outputId": "ede1f7fd-36b6-4515-9e40-1e457e944451"
      },
      "execution_count": 31,
      "outputs": [
        {
          "output_type": "stream",
          "name": "stdout",
          "text": [
            "340\n"
          ]
        }
      ]
    },
    {
      "cell_type": "markdown",
      "source": [
        "8. Print the Highest 'Base Pay' of every 'Office Name'."
      ],
      "metadata": {
        "id": "XcsUrsDhFuju"
      }
    },
    {
      "cell_type": "code",
      "source": [
        "df.groupby('Office Name')['Base Pay'].max()\n"
      ],
      "metadata": {
        "colab": {
          "base_uri": "https://localhost:8080/"
        },
        "id": "GomI9lO-Fuan",
        "outputId": "ded3f710-85c4-4132-d585-9f7251b62c49"
      },
      "execution_count": 32,
      "outputs": [
        {
          "output_type": "execute_result",
          "data": {
            "text/plain": [
              "Office Name\n",
              "ADMINISTRATIVE HEARING BOARD       13336.66\n",
              "ADULT PROBATION DEPT.              31928.40\n",
              "AMBULATORY COMMUNITY HLTH NTWK     74039.00\n",
              "BOARD OF REVIEW                    33387.20\n",
              "BOH SERVICES CORE CENTER           43236.20\n",
              "                                    ...    \n",
              "STATES ATTORNEY                    51904.72\n",
              "STROGER HOSPITAL OF COOK CNTY     179589.32\n",
              "SUPPORTIVE SERVICES                16359.73\n",
              "TECHNOLOGY POLICY AND PLANNING     34192.34\n",
              "THIRD DISTRICT                     22884.61\n",
              "Name: Base Pay, Length: 74, dtype: float64"
            ]
          },
          "metadata": {},
          "execution_count": 32
        }
      ]
    },
    {
      "cell_type": "markdown",
      "source": [
        "9. Create a Dataframe having 'Original Hire Date' as its index and  'Job Title' and 'Base pay' are columns"
      ],
      "metadata": {
        "id": "ePPuzCmJF1no"
      }
    },
    {
      "cell_type": "code",
      "source": [
        "df2 = df.set_index('Original Hire Date')[['Job Title','Base Pay']]\n",
        "df2\n"
      ],
      "metadata": {
        "colab": {
          "base_uri": "https://localhost:8080/",
          "height": 455
        },
        "id": "KhAJgJz4F5Qo",
        "outputId": "50d396e2-ff37-4bcd-afde-6eddffb85c35"
      },
      "execution_count": 33,
      "outputs": [
        {
          "output_type": "execute_result",
          "data": {
            "text/plain": [
              "                                         Job Title  Base Pay\n",
              "Original Hire Date                                          \n",
              "2005-05-16              Assistant State's Attorney  20088.00\n",
              "2005-05-16              Assistant State's Attorney  23436.00\n",
              "2005-05-16              Assistant State's Attorney  20422.82\n",
              "2005-05-16              Assistant State's Attorney  23904.80\n",
              "2005-05-16              Assistant State's Attorney  20745.80\n",
              "...                                            ...       ...\n",
              "1999-09-27          Rapid Response Team Specialist  16253.37\n",
              "2001-03-26                                 Clerk V  10546.96\n",
              "1987-04-06           Public Health Educator Senior  16145.91\n",
              "2015-09-21             Call Center Cust Sevice Rep   7264.80\n",
              "2004-01-12             Hospital Security Officer I  12145.60\n",
              "\n",
              "[25179 rows x 2 columns]"
            ],
            "text/html": [
              "\n",
              "  <div id=\"df-222f534c-76ef-4754-adcc-d4b9c58c7e8f\" class=\"colab-df-container\">\n",
              "    <div>\n",
              "<style scoped>\n",
              "    .dataframe tbody tr th:only-of-type {\n",
              "        vertical-align: middle;\n",
              "    }\n",
              "\n",
              "    .dataframe tbody tr th {\n",
              "        vertical-align: top;\n",
              "    }\n",
              "\n",
              "    .dataframe thead th {\n",
              "        text-align: right;\n",
              "    }\n",
              "</style>\n",
              "<table border=\"1\" class=\"dataframe\">\n",
              "  <thead>\n",
              "    <tr style=\"text-align: right;\">\n",
              "      <th></th>\n",
              "      <th>Job Title</th>\n",
              "      <th>Base Pay</th>\n",
              "    </tr>\n",
              "    <tr>\n",
              "      <th>Original Hire Date</th>\n",
              "      <th></th>\n",
              "      <th></th>\n",
              "    </tr>\n",
              "  </thead>\n",
              "  <tbody>\n",
              "    <tr>\n",
              "      <th>2005-05-16</th>\n",
              "      <td>Assistant State's Attorney</td>\n",
              "      <td>20088.00</td>\n",
              "    </tr>\n",
              "    <tr>\n",
              "      <th>2005-05-16</th>\n",
              "      <td>Assistant State's Attorney</td>\n",
              "      <td>23436.00</td>\n",
              "    </tr>\n",
              "    <tr>\n",
              "      <th>2005-05-16</th>\n",
              "      <td>Assistant State's Attorney</td>\n",
              "      <td>20422.82</td>\n",
              "    </tr>\n",
              "    <tr>\n",
              "      <th>2005-05-16</th>\n",
              "      <td>Assistant State's Attorney</td>\n",
              "      <td>23904.80</td>\n",
              "    </tr>\n",
              "    <tr>\n",
              "      <th>2005-05-16</th>\n",
              "      <td>Assistant State's Attorney</td>\n",
              "      <td>20745.80</td>\n",
              "    </tr>\n",
              "    <tr>\n",
              "      <th>...</th>\n",
              "      <td>...</td>\n",
              "      <td>...</td>\n",
              "    </tr>\n",
              "    <tr>\n",
              "      <th>1999-09-27</th>\n",
              "      <td>Rapid Response Team Specialist</td>\n",
              "      <td>16253.37</td>\n",
              "    </tr>\n",
              "    <tr>\n",
              "      <th>2001-03-26</th>\n",
              "      <td>Clerk V</td>\n",
              "      <td>10546.96</td>\n",
              "    </tr>\n",
              "    <tr>\n",
              "      <th>1987-04-06</th>\n",
              "      <td>Public Health Educator Senior</td>\n",
              "      <td>16145.91</td>\n",
              "    </tr>\n",
              "    <tr>\n",
              "      <th>2015-09-21</th>\n",
              "      <td>Call Center Cust Sevice Rep</td>\n",
              "      <td>7264.80</td>\n",
              "    </tr>\n",
              "    <tr>\n",
              "      <th>2004-01-12</th>\n",
              "      <td>Hospital Security Officer I</td>\n",
              "      <td>12145.60</td>\n",
              "    </tr>\n",
              "  </tbody>\n",
              "</table>\n",
              "<p>25179 rows × 2 columns</p>\n",
              "</div>\n",
              "    <div class=\"colab-df-buttons\">\n",
              "\n",
              "  <div class=\"colab-df-container\">\n",
              "    <button class=\"colab-df-convert\" onclick=\"convertToInteractive('df-222f534c-76ef-4754-adcc-d4b9c58c7e8f')\"\n",
              "            title=\"Convert this dataframe to an interactive table.\"\n",
              "            style=\"display:none;\">\n",
              "\n",
              "  <svg xmlns=\"http://www.w3.org/2000/svg\" height=\"24px\" viewBox=\"0 -960 960 960\">\n",
              "    <path d=\"M120-120v-720h720v720H120Zm60-500h600v-160H180v160Zm220 220h160v-160H400v160Zm0 220h160v-160H400v160ZM180-400h160v-160H180v160Zm440 0h160v-160H620v160ZM180-180h160v-160H180v160Zm440 0h160v-160H620v160Z\"/>\n",
              "  </svg>\n",
              "    </button>\n",
              "\n",
              "  <style>\n",
              "    .colab-df-container {\n",
              "      display:flex;\n",
              "      gap: 12px;\n",
              "    }\n",
              "\n",
              "    .colab-df-convert {\n",
              "      background-color: #E8F0FE;\n",
              "      border: none;\n",
              "      border-radius: 50%;\n",
              "      cursor: pointer;\n",
              "      display: none;\n",
              "      fill: #1967D2;\n",
              "      height: 32px;\n",
              "      padding: 0 0 0 0;\n",
              "      width: 32px;\n",
              "    }\n",
              "\n",
              "    .colab-df-convert:hover {\n",
              "      background-color: #E2EBFA;\n",
              "      box-shadow: 0px 1px 2px rgba(60, 64, 67, 0.3), 0px 1px 3px 1px rgba(60, 64, 67, 0.15);\n",
              "      fill: #174EA6;\n",
              "    }\n",
              "\n",
              "    .colab-df-buttons div {\n",
              "      margin-bottom: 4px;\n",
              "    }\n",
              "\n",
              "    [theme=dark] .colab-df-convert {\n",
              "      background-color: #3B4455;\n",
              "      fill: #D2E3FC;\n",
              "    }\n",
              "\n",
              "    [theme=dark] .colab-df-convert:hover {\n",
              "      background-color: #434B5C;\n",
              "      box-shadow: 0px 1px 3px 1px rgba(0, 0, 0, 0.15);\n",
              "      filter: drop-shadow(0px 1px 2px rgba(0, 0, 0, 0.3));\n",
              "      fill: #FFFFFF;\n",
              "    }\n",
              "  </style>\n",
              "\n",
              "    <script>\n",
              "      const buttonEl =\n",
              "        document.querySelector('#df-222f534c-76ef-4754-adcc-d4b9c58c7e8f button.colab-df-convert');\n",
              "      buttonEl.style.display =\n",
              "        google.colab.kernel.accessAllowed ? 'block' : 'none';\n",
              "\n",
              "      async function convertToInteractive(key) {\n",
              "        const element = document.querySelector('#df-222f534c-76ef-4754-adcc-d4b9c58c7e8f');\n",
              "        const dataTable =\n",
              "          await google.colab.kernel.invokeFunction('convertToInteractive',\n",
              "                                                    [key], {});\n",
              "        if (!dataTable) return;\n",
              "\n",
              "        const docLinkHtml = 'Like what you see? Visit the ' +\n",
              "          '<a target=\"_blank\" href=https://colab.research.google.com/notebooks/data_table.ipynb>data table notebook</a>'\n",
              "          + ' to learn more about interactive tables.';\n",
              "        element.innerHTML = '';\n",
              "        dataTable['output_type'] = 'display_data';\n",
              "        await google.colab.output.renderOutput(dataTable, element);\n",
              "        const docLink = document.createElement('div');\n",
              "        docLink.innerHTML = docLinkHtml;\n",
              "        element.appendChild(docLink);\n",
              "      }\n",
              "    </script>\n",
              "  </div>\n",
              "\n",
              "\n",
              "<div id=\"df-38d0917f-2366-49f7-9152-cd1d4dc527cd\">\n",
              "  <button class=\"colab-df-quickchart\" onclick=\"quickchart('df-38d0917f-2366-49f7-9152-cd1d4dc527cd')\"\n",
              "            title=\"Suggest charts\"\n",
              "            style=\"display:none;\">\n",
              "\n",
              "<svg xmlns=\"http://www.w3.org/2000/svg\" height=\"24px\"viewBox=\"0 0 24 24\"\n",
              "     width=\"24px\">\n",
              "    <g>\n",
              "        <path d=\"M19 3H5c-1.1 0-2 .9-2 2v14c0 1.1.9 2 2 2h14c1.1 0 2-.9 2-2V5c0-1.1-.9-2-2-2zM9 17H7v-7h2v7zm4 0h-2V7h2v10zm4 0h-2v-4h2v4z\"/>\n",
              "    </g>\n",
              "</svg>\n",
              "  </button>\n",
              "\n",
              "<style>\n",
              "  .colab-df-quickchart {\n",
              "      --bg-color: #E8F0FE;\n",
              "      --fill-color: #1967D2;\n",
              "      --hover-bg-color: #E2EBFA;\n",
              "      --hover-fill-color: #174EA6;\n",
              "      --disabled-fill-color: #AAA;\n",
              "      --disabled-bg-color: #DDD;\n",
              "  }\n",
              "\n",
              "  [theme=dark] .colab-df-quickchart {\n",
              "      --bg-color: #3B4455;\n",
              "      --fill-color: #D2E3FC;\n",
              "      --hover-bg-color: #434B5C;\n",
              "      --hover-fill-color: #FFFFFF;\n",
              "      --disabled-bg-color: #3B4455;\n",
              "      --disabled-fill-color: #666;\n",
              "  }\n",
              "\n",
              "  .colab-df-quickchart {\n",
              "    background-color: var(--bg-color);\n",
              "    border: none;\n",
              "    border-radius: 50%;\n",
              "    cursor: pointer;\n",
              "    display: none;\n",
              "    fill: var(--fill-color);\n",
              "    height: 32px;\n",
              "    padding: 0;\n",
              "    width: 32px;\n",
              "  }\n",
              "\n",
              "  .colab-df-quickchart:hover {\n",
              "    background-color: var(--hover-bg-color);\n",
              "    box-shadow: 0 1px 2px rgba(60, 64, 67, 0.3), 0 1px 3px 1px rgba(60, 64, 67, 0.15);\n",
              "    fill: var(--button-hover-fill-color);\n",
              "  }\n",
              "\n",
              "  .colab-df-quickchart-complete:disabled,\n",
              "  .colab-df-quickchart-complete:disabled:hover {\n",
              "    background-color: var(--disabled-bg-color);\n",
              "    fill: var(--disabled-fill-color);\n",
              "    box-shadow: none;\n",
              "  }\n",
              "\n",
              "  .colab-df-spinner {\n",
              "    border: 2px solid var(--fill-color);\n",
              "    border-color: transparent;\n",
              "    border-bottom-color: var(--fill-color);\n",
              "    animation:\n",
              "      spin 1s steps(1) infinite;\n",
              "  }\n",
              "\n",
              "  @keyframes spin {\n",
              "    0% {\n",
              "      border-color: transparent;\n",
              "      border-bottom-color: var(--fill-color);\n",
              "      border-left-color: var(--fill-color);\n",
              "    }\n",
              "    20% {\n",
              "      border-color: transparent;\n",
              "      border-left-color: var(--fill-color);\n",
              "      border-top-color: var(--fill-color);\n",
              "    }\n",
              "    30% {\n",
              "      border-color: transparent;\n",
              "      border-left-color: var(--fill-color);\n",
              "      border-top-color: var(--fill-color);\n",
              "      border-right-color: var(--fill-color);\n",
              "    }\n",
              "    40% {\n",
              "      border-color: transparent;\n",
              "      border-right-color: var(--fill-color);\n",
              "      border-top-color: var(--fill-color);\n",
              "    }\n",
              "    60% {\n",
              "      border-color: transparent;\n",
              "      border-right-color: var(--fill-color);\n",
              "    }\n",
              "    80% {\n",
              "      border-color: transparent;\n",
              "      border-right-color: var(--fill-color);\n",
              "      border-bottom-color: var(--fill-color);\n",
              "    }\n",
              "    90% {\n",
              "      border-color: transparent;\n",
              "      border-bottom-color: var(--fill-color);\n",
              "    }\n",
              "  }\n",
              "</style>\n",
              "\n",
              "  <script>\n",
              "    async function quickchart(key) {\n",
              "      const quickchartButtonEl =\n",
              "        document.querySelector('#' + key + ' button');\n",
              "      quickchartButtonEl.disabled = true;  // To prevent multiple clicks.\n",
              "      quickchartButtonEl.classList.add('colab-df-spinner');\n",
              "      try {\n",
              "        const charts = await google.colab.kernel.invokeFunction(\n",
              "            'suggestCharts', [key], {});\n",
              "      } catch (error) {\n",
              "        console.error('Error during call to suggestCharts:', error);\n",
              "      }\n",
              "      quickchartButtonEl.classList.remove('colab-df-spinner');\n",
              "      quickchartButtonEl.classList.add('colab-df-quickchart-complete');\n",
              "    }\n",
              "    (() => {\n",
              "      let quickchartButtonEl =\n",
              "        document.querySelector('#df-38d0917f-2366-49f7-9152-cd1d4dc527cd button');\n",
              "      quickchartButtonEl.style.display =\n",
              "        google.colab.kernel.accessAllowed ? 'block' : 'none';\n",
              "    })();\n",
              "  </script>\n",
              "</div>\n",
              "\n",
              "  <div id=\"id_63d53d9d-1966-4a0e-b39c-0a102820ca07\">\n",
              "    <style>\n",
              "      .colab-df-generate {\n",
              "        background-color: #E8F0FE;\n",
              "        border: none;\n",
              "        border-radius: 50%;\n",
              "        cursor: pointer;\n",
              "        display: none;\n",
              "        fill: #1967D2;\n",
              "        height: 32px;\n",
              "        padding: 0 0 0 0;\n",
              "        width: 32px;\n",
              "      }\n",
              "\n",
              "      .colab-df-generate:hover {\n",
              "        background-color: #E2EBFA;\n",
              "        box-shadow: 0px 1px 2px rgba(60, 64, 67, 0.3), 0px 1px 3px 1px rgba(60, 64, 67, 0.15);\n",
              "        fill: #174EA6;\n",
              "      }\n",
              "\n",
              "      [theme=dark] .colab-df-generate {\n",
              "        background-color: #3B4455;\n",
              "        fill: #D2E3FC;\n",
              "      }\n",
              "\n",
              "      [theme=dark] .colab-df-generate:hover {\n",
              "        background-color: #434B5C;\n",
              "        box-shadow: 0px 1px 3px 1px rgba(0, 0, 0, 0.15);\n",
              "        filter: drop-shadow(0px 1px 2px rgba(0, 0, 0, 0.3));\n",
              "        fill: #FFFFFF;\n",
              "      }\n",
              "    </style>\n",
              "    <button class=\"colab-df-generate\" onclick=\"generateWithVariable('df2')\"\n",
              "            title=\"Generate code using this dataframe.\"\n",
              "            style=\"display:none;\">\n",
              "\n",
              "  <svg xmlns=\"http://www.w3.org/2000/svg\" height=\"24px\"viewBox=\"0 0 24 24\"\n",
              "       width=\"24px\">\n",
              "    <path d=\"M7,19H8.4L18.45,9,17,7.55,7,17.6ZM5,21V16.75L18.45,3.32a2,2,0,0,1,2.83,0l1.4,1.43a1.91,1.91,0,0,1,.58,1.4,1.91,1.91,0,0,1-.58,1.4L9.25,21ZM18.45,9,17,7.55Zm-12,3A5.31,5.31,0,0,0,4.9,8.1,5.31,5.31,0,0,0,1,6.5,5.31,5.31,0,0,0,4.9,4.9,5.31,5.31,0,0,0,6.5,1,5.31,5.31,0,0,0,8.1,4.9,5.31,5.31,0,0,0,12,6.5,5.46,5.46,0,0,0,6.5,12Z\"/>\n",
              "  </svg>\n",
              "    </button>\n",
              "    <script>\n",
              "      (() => {\n",
              "      const buttonEl =\n",
              "        document.querySelector('#id_63d53d9d-1966-4a0e-b39c-0a102820ca07 button.colab-df-generate');\n",
              "      buttonEl.style.display =\n",
              "        google.colab.kernel.accessAllowed ? 'block' : 'none';\n",
              "\n",
              "      buttonEl.onclick = () => {\n",
              "        google.colab.notebook.generateWithVariable('df2');\n",
              "      }\n",
              "      })();\n",
              "    </script>\n",
              "  </div>\n",
              "\n",
              "    </div>\n",
              "  </div>\n"
            ],
            "application/vnd.google.colaboratory.intrinsic+json": {
              "type": "dataframe",
              "variable_name": "df2",
              "summary": "{\n  \"name\": \"df2\",\n  \"rows\": 25179,\n  \"fields\": [\n    {\n      \"column\": \"Original Hire Date\",\n      \"properties\": {\n        \"dtype\": \"date\",\n        \"min\": \"1966-04-08 00:00:00\",\n        \"max\": \"2017-11-13 00:00:00\",\n        \"num_unique_values\": 1496,\n        \"samples\": [\n          \"1992-06-29 00:00:00\",\n          \"1990-03-16 00:00:00\",\n          \"1980-07-28 00:00:00\"\n        ],\n        \"semantic_type\": \"\",\n        \"description\": \"\"\n      }\n    },\n    {\n      \"column\": \"Job Title\",\n      \"properties\": {\n        \"dtype\": \"category\",\n        \"num_unique_values\": 824,\n        \"samples\": [\n          \"Dental Hygienist (SEIU 73)\",\n          \"Administrative Analyst V\",\n          \"Assoc Nurse Exec Hsptl Bsd Sr\"\n        ],\n        \"semantic_type\": \"\",\n        \"description\": \"\"\n      }\n    },\n    {\n      \"column\": \"Base Pay\",\n      \"properties\": {\n        \"dtype\": \"number\",\n        \"std\": 10789.590236670658,\n        \"min\": -19562.15,\n        \"max\": 179589.32,\n        \"num_unique_values\": 17353,\n        \"samples\": [\n          8179.12,\n          18202.1,\n          10176.57\n        ],\n        \"semantic_type\": \"\",\n        \"description\": \"\"\n      }\n    }\n  ]\n}"
            }
          },
          "metadata": {},
          "execution_count": 33
        }
      ]
    },
    {
      "cell_type": "markdown",
      "source": [
        "10. Find the average 'Base pay' of every 'Fiscal Year’."
      ],
      "metadata": {
        "id": "8NpJSGymGH8A"
      }
    },
    {
      "cell_type": "code",
      "source": [
        "df.groupby('Fiscal Year')['Base Pay'].mean()"
      ],
      "metadata": {
        "colab": {
          "base_uri": "https://localhost:8080/"
        },
        "id": "ErcIATiyGDqo",
        "outputId": "facbba4d-180b-4efa-c9b6-c6249028ee16"
      },
      "execution_count": 34,
      "outputs": [
        {
          "output_type": "execute_result",
          "data": {
            "text/plain": [
              "Fiscal Year\n",
              "2016    16752.796101\n",
              "2017    17748.577053\n",
              "Name: Base Pay, dtype: float64"
            ]
          },
          "metadata": {},
          "execution_count": 34
        }
      ]
    },
    {
      "cell_type": "markdown",
      "source": [
        "11 Create 3 DataFrames 'df_2016', 'df_2017', and 'df_2018' where each dataframe will contain data only from those 'Fiscal Year’."
      ],
      "metadata": {
        "id": "VKCmL4raGDjG"
      }
    },
    {
      "cell_type": "code",
      "source": [
        "df_2016 = df[\"Fiscal Year\"][df[\"Fiscal Year\"] == 2016]\n",
        "df_2017 = df[\"Fiscal Year\"][df[\"Fiscal Year\"] == 2017]\n",
        "df_2018 = df[\"Fiscal Year\"][df[\"Fiscal Year\"] == 2018]\n",
        "\n",
        "print(df_2016)\n",
        "print(df_2017)\n",
        "print(df_2018)"
      ],
      "metadata": {
        "colab": {
          "base_uri": "https://localhost:8080/"
        },
        "id": "8aRBgkrxGNIP",
        "outputId": "8b769fbf-c059-4858-a5ea-0275b37700d7"
      },
      "execution_count": 37,
      "outputs": [
        {
          "output_type": "stream",
          "name": "stdout",
          "text": [
            "0        2016\n",
            "1        2016\n",
            "2        2016\n",
            "3        2016\n",
            "7        2016\n",
            "         ... \n",
            "25410    2016\n",
            "25411    2016\n",
            "25412    2016\n",
            "25413    2016\n",
            "25414    2016\n",
            "Name: Fiscal Year, Length: 12889, dtype: int64\n",
            "4        2017\n",
            "5        2017\n",
            "6        2017\n",
            "11       2017\n",
            "12       2017\n",
            "         ... \n",
            "25307    2017\n",
            "25308    2017\n",
            "25309    2017\n",
            "25310    2017\n",
            "25311    2017\n",
            "Name: Fiscal Year, Length: 12290, dtype: int64\n",
            "Series([], Name: Fiscal Year, dtype: int64)\n"
          ]
        }
      ]
    },
    {
      "cell_type": "markdown",
      "source": [
        "12. Get all the details where 'Job Title' is 'Operating Engineer II' and the 'Base Pay' is less than 29000 and greater than 25000"
      ],
      "metadata": {
        "id": "fGDMFSfbHEgi"
      }
    },
    {
      "cell_type": "code",
      "source": [
        "df_filtered = df[(df['Job Title'] == 'Operating Engineer II') & (df['Base Pay'] < 29000) & (df['Base Pay'] > 25000)]\n",
        "print(df_filtered)"
      ],
      "metadata": {
        "colab": {
          "base_uri": "https://localhost:8080/"
        },
        "id": "98C2QonZHETg",
        "outputId": "da464a7f-4e6f-4ef1-b63b-560b20bc4e2a"
      },
      "execution_count": 38,
      "outputs": [
        {
          "output_type": "stream",
          "name": "stdout",
          "text": [
            "       Fiscal Quarter Fiscal Period First Name Last Name  \\\n",
            "10398               2        2016Q2      BRIAN    BARRON   \n",
            "10420               4        2016Q4      BRIAN    BARRON   \n",
            "10445               2        2017Q2      BRIAN    BARRON   \n",
            "10466               4        2017Q4      BRIAN    BARRON   \n",
            "\n",
            "                      Bureau               Office Name              Job Title  \\\n",
            "10398  Facilities Management  DEPT. OF FACILITIES/MGMT  Operating Engineer II   \n",
            "10420  Facilities Management  DEPT. OF FACILITIES/MGMT  Operating Engineer II   \n",
            "10445  Facilities Management  DEPT. OF FACILITIES/MGMT  Operating Engineer II   \n",
            "10466  Facilities Management  DEPT. OF FACILITIES/MGMT  Operating Engineer II   \n",
            "\n",
            "       Base Pay                   Employee Identifier Original Hire Date  \\\n",
            "10398   26566.4  28cf5110-2bb2-470d-abd8-154cca28eead         1996-07-08   \n",
            "10420   26566.4  28cf5110-2bb2-470d-abd8-154cca28eead         1996-07-08   \n",
            "10445   26566.4  28cf5110-2bb2-470d-abd8-154cca28eead         1996-07-08   \n",
            "10466   27098.4  28cf5110-2bb2-470d-abd8-154cca28eead         1996-07-08   \n",
            "\n",
            "       Fiscal Year  \n",
            "10398         2016  \n",
            "10420         2016  \n",
            "10445         2017  \n",
            "10466         2017  \n"
          ]
        }
      ]
    },
    {
      "cell_type": "markdown",
      "source": [
        "13. Concat the above 3 Dataframes created  'df_2016', 'df_2017', and 'df_2018', to create a new DataFrame."
      ],
      "metadata": {
        "id": "u7UqH8stHP-I"
      }
    },
    {
      "cell_type": "code",
      "source": [
        "df_combined = pd.concat([df_2016, df_2017, df_2018])\n",
        "print(df_combined)\n"
      ],
      "metadata": {
        "colab": {
          "base_uri": "https://localhost:8080/"
        },
        "id": "KNlYGe7IHPtK",
        "outputId": "4b660dab-8e07-4614-bfea-2a11163b8dbe"
      },
      "execution_count": 40,
      "outputs": [
        {
          "output_type": "stream",
          "name": "stdout",
          "text": [
            "0        2016\n",
            "1        2016\n",
            "2        2016\n",
            "3        2016\n",
            "7        2016\n",
            "         ... \n",
            "25307    2017\n",
            "25308    2017\n",
            "25309    2017\n",
            "25310    2017\n",
            "25311    2017\n",
            "Name: Fiscal Year, Length: 25179, dtype: int64\n"
          ]
        }
      ]
    },
    {
      "cell_type": "markdown",
      "source": [
        "14. Get all the details of Employees whose 'Base Pay' is the minimum or 'Base Pay' is the maximum"
      ],
      "metadata": {
        "id": "2mubZRa3Hgzi"
      }
    },
    {
      "cell_type": "code",
      "source": [
        "min_pay = df['Base Pay'].min()\n",
        "max_pay = df['Base Pay'].max()\n",
        "\n",
        "df_fil = df[(df['Base Pay'] == min_pay) | (df['Base Pay'] == max_pay)]\n",
        "print(df_fil)\n"
      ],
      "metadata": {
        "colab": {
          "base_uri": "https://localhost:8080/"
        },
        "id": "I1j2uo-XHgSq",
        "outputId": "4fe69ace-ef76-43b0-d139-d300d9ed9453"
      },
      "execution_count": 41,
      "outputs": [
        {
          "output_type": "stream",
          "name": "stdout",
          "text": [
            "       Fiscal Quarter Fiscal Period First Name Last Name            Bureau  \\\n",
            "1383                4        2016Q4    MUNEEZA      AFIF  Bureau of Health   \n",
            "20287               2        2017Q2       SEAN    BRYANT  Bureau of Health   \n",
            "\n",
            "                          Office Name                  Job Title   Base Pay  \\\n",
            "1383   AMBULATORY COMMUNITY HLTH NTWK     Attending Physician VI  -19562.15   \n",
            "20287   STROGER HOSPITAL OF COOK CNTY  Attending Physician IX-SC  179589.32   \n",
            "\n",
            "                        Employee Identifier Original Hire Date  Fiscal Year  \n",
            "1383   7e5eab7f-a079-4747-9cd6-ecb2b0dd7ebc         2012-07-01         2016  \n",
            "20287  09199b7a-84ba-4d36-bd56-4a6b02df1851         2004-07-12         2017  \n"
          ]
        }
      ]
    },
    {
      "cell_type": "markdown",
      "source": [
        "15. For each ‘Office Name’ and ‘Job Title’  find the first and second highest  'Base Pay'  salary."
      ],
      "metadata": {
        "id": "B56oj3ALHzVq"
      }
    },
    {
      "cell_type": "code",
      "source": [
        "df.groupby(['Office Name', 'Job Title'])['Base Pay'].nlargest(2)"
      ],
      "metadata": {
        "colab": {
          "base_uri": "https://localhost:8080/"
        },
        "id": "v3wxHSqEH7zZ",
        "outputId": "da1ebe16-2a48-4e2a-9664-5b9f4056ec93"
      },
      "execution_count": 43,
      "outputs": [
        {
          "output_type": "execute_result",
          "data": {
            "text/plain": [
              "Office Name                   Job Title                           \n",
              "ADMINISTRATIVE HEARING BOARD  Administrative Assistant III   10095    13336.66\n",
              "                                                             10046    13336.64\n",
              "                              Administrative Hearings Clerk  19656     8859.89\n",
              "                                                             19520     7594.20\n",
              "ADULT PROBATION DEPT.         Admin Assistant I              10969    14987.03\n",
              "                                                                        ...   \n",
              "THIRD DISTRICT                Aide to the Commissioner I     12470    21992.74\n",
              "                              Commissioners Staff            12465    21667.73\n",
              "                                                             12463    21242.83\n",
              "                              County Commissioner            21901    22884.61\n",
              "                                                             21942    22884.61\n",
              "Name: Base Pay, Length: 2336, dtype: float64"
            ]
          },
          "metadata": {},
          "execution_count": 43
        }
      ]
    }
  ]
}